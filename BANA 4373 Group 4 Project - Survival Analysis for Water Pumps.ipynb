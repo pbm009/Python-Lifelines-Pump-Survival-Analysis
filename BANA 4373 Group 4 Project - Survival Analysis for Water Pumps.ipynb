{
 "cells": [
  {
   "cell_type": "code",
   "execution_count": null,
   "id": "461a6234",
   "metadata": {},
   "outputs": [],
   "source": [
    "! pip install -q -r requirements.txt"
   ]
  },
  {
   "cell_type": "code",
   "execution_count": null,
   "id": "590b6731",
   "metadata": {},
   "outputs": [],
   "source": [
    "import pandas as pd\n",
    "\n",
    "%matplotlib inline"
   ]
  },
  {
   "cell_type": "code",
   "execution_count": null,
   "id": "c23e44cb",
   "metadata": {},
   "outputs": [],
   "source": [
    "file = \"data/pump_maintenance_train_FD001.csv\"\n",
    "\n",
    "df = pd.read_csv(file)"
   ]
  },
  {
   "cell_type": "code",
   "execution_count": null,
   "id": "e1a042b5",
   "metadata": {
    "scrolled": true
   },
   "outputs": [],
   "source": [
    "df.describe()"
   ]
  },
  {
   "cell_type": "code",
   "execution_count": null,
   "id": "70025c2e",
   "metadata": {},
   "outputs": [],
   "source": [
    "df.head(10)"
   ]
  },
  {
   "cell_type": "code",
   "execution_count": null,
   "id": "e1f296d7",
   "metadata": {},
   "outputs": [],
   "source": [
    "max_rul = df.groupby('Unit #')['Max'].max()"
   ]
  },
  {
   "cell_type": "code",
   "execution_count": null,
   "id": "d26a3d27",
   "metadata": {},
   "outputs": [],
   "source": [
    "len(max_rul)"
   ]
  },
  {
   "cell_type": "code",
   "execution_count": null,
   "id": "b0a9d6a5",
   "metadata": {},
   "outputs": [],
   "source": [
    "max_rul = pd.DataFrame(max_rul)"
   ]
  },
  {
   "cell_type": "code",
   "execution_count": null,
   "id": "bc7c31d1",
   "metadata": {},
   "outputs": [],
   "source": [
    "max_rul['observed'] = 1"
   ]
  },
  {
   "cell_type": "code",
   "execution_count": null,
   "id": "5c377ade",
   "metadata": {},
   "outputs": [],
   "source": [
    "max_rul.tail()"
   ]
  },
  {
   "cell_type": "code",
   "execution_count": null,
   "id": "2706b9fc",
   "metadata": {},
   "outputs": [],
   "source": [
    "max_rul['Max'].mean()"
   ]
  },
  {
   "cell_type": "code",
   "execution_count": null,
   "id": "2914bdc4",
   "metadata": {},
   "outputs": [],
   "source": [
    "max_rul['Max'].median()"
   ]
  },
  {
   "cell_type": "code",
   "execution_count": null,
   "id": "bb679781",
   "metadata": {},
   "outputs": [],
   "source": [
    "max_rul['Max'].std()"
   ]
  },
  {
   "cell_type": "code",
   "execution_count": null,
   "id": "87f08b14",
   "metadata": {},
   "outputs": [],
   "source": [
    "from lifelines import KaplanMeierFitter\n",
    "\n",
    "durations = max_rul['Max']\n",
    "event_observed = max_rul['observed']\n",
    "kmf = KaplanMeierFitter() \n",
    "kmf.fit(durations, event_observed,label='Kaplan Meier Estimate')\n",
    "kmf.plot()\n",
    "\n",
    "from matplotlib import pyplot as plt\n",
    "\n",
    "plt.title('Survival Function of Water Pumps');\n",
    "plt.xlabel('Time');\n",
    "plt.ylabel('Probability');\n"
   ]
  },
  {
   "cell_type": "code",
   "execution_count": null,
   "id": "3703a799",
   "metadata": {},
   "outputs": [],
   "source": [
    "import lifelines\n",
    "\n",
    "lifelines.utils.qth_survival_time(.1, kmf)"
   ]
  }
 ],
 "metadata": {
  "kernelspec": {
   "display_name": "Python 3",
   "language": "python",
   "name": "python3"
  },
  "language_info": {
   "codemirror_mode": {
    "name": "ipython",
    "version": 3
   },
   "file_extension": ".py",
   "mimetype": "text/x-python",
   "name": "python",
   "nbconvert_exporter": "python",
   "pygments_lexer": "ipython3",
   "version": "3.8.8"
  }
 },
 "nbformat": 4,
 "nbformat_minor": 5
}
